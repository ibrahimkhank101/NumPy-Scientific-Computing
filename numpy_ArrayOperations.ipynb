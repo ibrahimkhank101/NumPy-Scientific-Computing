{
 "cells": [
  {
   "cell_type": "markdown",
   "id": "95f20dc3-f405-43e6-9850-2dfcbdde110d",
   "metadata": {},
   "source": [
    "# NumPy Array Operations!!"
   ]
  },
  {
   "cell_type": "code",
   "execution_count": 1,
   "id": "08006ad2-c27d-4fb8-8551-537648f37df4",
   "metadata": {
    "execution": {
     "iopub.execute_input": "2025-07-25T11:30:11.136530Z",
     "iopub.status.busy": "2025-07-25T11:30:11.136293Z",
     "iopub.status.idle": "2025-07-25T11:30:11.209482Z",
     "shell.execute_reply": "2025-07-25T11:30:11.209017Z",
     "shell.execute_reply.started": "2025-07-25T11:30:11.136512Z"
    }
   },
   "outputs": [],
   "source": [
    "import numpy as np"
   ]
  },
  {
   "cell_type": "markdown",
   "id": "e6900dfd-b3b3-4c8f-9f6f-10b80b85f4e8",
   "metadata": {},
   "source": [
    "## Index Slicing"
   ]
  },
  {
   "cell_type": "code",
   "execution_count": 4,
   "id": "0eed2501-21d0-4903-8f9b-7f358f995363",
   "metadata": {
    "execution": {
     "iopub.execute_input": "2025-07-25T11:30:40.338907Z",
     "iopub.status.busy": "2025-07-25T11:30:40.338667Z",
     "iopub.status.idle": "2025-07-25T11:30:40.343479Z",
     "shell.execute_reply": "2025-07-25T11:30:40.342877Z",
     "shell.execute_reply.started": "2025-07-25T11:30:40.338889Z"
    }
   },
   "outputs": [
    {
     "name": "stdout",
     "output_type": "stream",
     "text": [
      "[[17 57 18]\n",
      " [28 25 20]\n",
      " [18  3  7]]\n"
     ]
    }
   ],
   "source": [
    "a = np.array([[17, 57, 18],\n",
    "               [28, 25, 20],\n",
    "               [18, 3, 7]])\n",
    "print(a)"
   ]
  },
  {
   "cell_type": "code",
   "execution_count": 8,
   "id": "d57df079-cd64-4cc0-ab85-f8aa4196b001",
   "metadata": {
    "execution": {
     "iopub.execute_input": "2025-07-25T11:30:55.876992Z",
     "iopub.status.busy": "2025-07-25T11:30:55.876741Z",
     "iopub.status.idle": "2025-07-25T11:30:55.880399Z",
     "shell.execute_reply": "2025-07-25T11:30:55.879850Z",
     "shell.execute_reply.started": "2025-07-25T11:30:55.876973Z"
    }
   },
   "outputs": [
    {
     "name": "stdout",
     "output_type": "stream",
     "text": [
      "18\n"
     ]
    }
   ],
   "source": [
    "print(a[2, 0])"
   ]
  },
  {
   "cell_type": "markdown",
   "id": "e8229906-160a-4576-8b84-9c3d45be3e6d",
   "metadata": {},
   "source": [
    "to get entire row:"
   ]
  },
  {
   "cell_type": "code",
   "execution_count": 4,
   "id": "b683fae2-a2af-442c-a007-50063d50d97b",
   "metadata": {
    "execution": {
     "iopub.execute_input": "2025-07-24T06:25:25.520906Z",
     "iopub.status.busy": "2025-07-24T06:25:25.520735Z",
     "iopub.status.idle": "2025-07-24T06:25:25.524343Z",
     "shell.execute_reply": "2025-07-24T06:25:25.523833Z",
     "shell.execute_reply.started": "2025-07-24T06:25:25.520890Z"
    }
   },
   "outputs": [
    {
     "name": "stdout",
     "output_type": "stream",
     "text": [
      "[17 57 18]\n"
     ]
    }
   ],
   "source": [
    "print(a[0])"
   ]
  },
  {
   "cell_type": "markdown",
   "id": "c6366efe-f952-43e4-a7ac-5cb5693d95f6",
   "metadata": {},
   "source": [
    "to get entire column:\n"
   ]
  },
  {
   "cell_type": "code",
   "execution_count": 5,
   "id": "ba9688a1-89a4-4a92-b801-e49f2eee0fca",
   "metadata": {
    "execution": {
     "iopub.execute_input": "2025-07-24T06:25:25.525053Z",
     "iopub.status.busy": "2025-07-24T06:25:25.524781Z",
     "iopub.status.idle": "2025-07-24T06:25:25.528636Z",
     "shell.execute_reply": "2025-07-24T06:25:25.528008Z",
     "shell.execute_reply.started": "2025-07-24T06:25:25.525035Z"
    }
   },
   "outputs": [
    {
     "name": "stdout",
     "output_type": "stream",
     "text": [
      "[57 25  3]\n"
     ]
    }
   ],
   "source": [
    "print(a[:, 1])"
   ]
  },
  {
   "cell_type": "markdown",
   "id": "23c702a4-a9a4-4bdd-8f0d-93b2028ae77f",
   "metadata": {},
   "source": [
    "## Sorting"
   ]
  },
  {
   "cell_type": "code",
   "execution_count": 6,
   "id": "8cd34cb4-cd39-49f7-b24e-49676b9e6051",
   "metadata": {
    "execution": {
     "iopub.execute_input": "2025-07-24T06:25:25.529532Z",
     "iopub.status.busy": "2025-07-24T06:25:25.529240Z",
     "iopub.status.idle": "2025-07-24T06:25:25.532777Z",
     "shell.execute_reply": "2025-07-24T06:25:25.532349Z",
     "shell.execute_reply.started": "2025-07-24T06:25:25.529506Z"
    }
   },
   "outputs": [
    {
     "name": "stdout",
     "output_type": "stream",
     "text": [
      "[[4 7 1]\n",
      " [8 2 5]\n",
      " [9 6 3]]\n"
     ]
    }
   ],
   "source": [
    "b = np.array([[4, 7, 1],\n",
    "             [8, 2, 5],\n",
    "             [9, 6, 3]])\n",
    "print(b)"
   ]
  },
  {
   "cell_type": "markdown",
   "id": "b577b77a-f020-4ac3-b860-f45e926837be",
   "metadata": {},
   "source": [
    "np.sort arranges the values by row, in ascending order"
   ]
  },
  {
   "cell_type": "code",
   "execution_count": 7,
   "id": "d6214b36-47aa-4ab4-8507-88582292a808",
   "metadata": {
    "execution": {
     "iopub.execute_input": "2025-07-24T06:25:25.533434Z",
     "iopub.status.busy": "2025-07-24T06:25:25.533257Z",
     "iopub.status.idle": "2025-07-24T06:25:25.537202Z",
     "shell.execute_reply": "2025-07-24T06:25:25.536447Z",
     "shell.execute_reply.started": "2025-07-24T06:25:25.533417Z"
    }
   },
   "outputs": [
    {
     "name": "stdout",
     "output_type": "stream",
     "text": [
      "[[1 4 7]\n",
      " [2 5 8]\n",
      " [3 6 9]]\n"
     ]
    }
   ],
   "source": [
    "b_s = np.sort(b)\n",
    "print(b_s)"
   ]
  },
  {
   "cell_type": "markdown",
   "id": "61517cd6-f98d-499b-8103-f7097f9c50a1",
   "metadata": {},
   "source": [
    "sorting an array by columns, we simply pass axis=0"
   ]
  },
  {
   "cell_type": "code",
   "execution_count": 8,
   "id": "f12be2ee-a12c-4644-9064-98e897f2a43a",
   "metadata": {
    "execution": {
     "iopub.execute_input": "2025-07-24T06:25:25.538001Z",
     "iopub.status.busy": "2025-07-24T06:25:25.537806Z",
     "iopub.status.idle": "2025-07-24T06:25:25.541133Z",
     "shell.execute_reply": "2025-07-24T06:25:25.540622Z",
     "shell.execute_reply.started": "2025-07-24T06:25:25.537984Z"
    }
   },
   "outputs": [
    {
     "name": "stdout",
     "output_type": "stream",
     "text": [
      "[[4 2 1]\n",
      " [8 6 3]\n",
      " [9 7 5]]\n"
     ]
    }
   ],
   "source": [
    "b_s_c = np.sort(b, axis=0)\n",
    "print(b_s_c)"
   ]
  },
  {
   "cell_type": "markdown",
   "id": "70208c31-3760-422a-a35b-153e1528f7bb",
   "metadata": {
    "execution": {
     "iopub.execute_input": "2025-07-24T05:42:27.428122Z",
     "iopub.status.busy": "2025-07-24T05:42:27.427864Z",
     "iopub.status.idle": "2025-07-24T05:42:27.431036Z",
     "shell.execute_reply": "2025-07-24T05:42:27.430349Z",
     "shell.execute_reply.started": "2025-07-24T05:42:27.428102Z"
    }
   },
   "source": [
    "## Filtering"
   ]
  },
  {
   "cell_type": "code",
   "execution_count": 9,
   "id": "3dffed10-f0ab-42c1-9b04-6e145a4d7cdd",
   "metadata": {
    "execution": {
     "iopub.execute_input": "2025-07-24T06:25:25.541901Z",
     "iopub.status.busy": "2025-07-24T06:25:25.541590Z",
     "iopub.status.idle": "2025-07-24T06:25:25.545498Z",
     "shell.execute_reply": "2025-07-24T06:25:25.545072Z",
     "shell.execute_reply.started": "2025-07-24T06:25:25.541876Z"
    }
   },
   "outputs": [
    {
     "name": "stdout",
     "output_type": "stream",
     "text": [
      "[1 3 5 7 9] are odd\n"
     ]
    }
   ],
   "source": [
    "numbers = np.array([[1, 2, 3, 4, 5],\n",
    "                    [6, 7, 8, 9, 10]])\n",
    "odd_numbers = numbers[numbers % 2 != 0]\n",
    "print(f\"{odd_numbers} are odd\")"
   ]
  },
  {
   "cell_type": "markdown",
   "id": "7b7f47ad-d468-4457-aed2-cc64d99a4219",
   "metadata": {},
   "source": [
    "## Masking"
   ]
  },
  {
   "cell_type": "code",
   "execution_count": 10,
   "id": "7f7c46dc-7ab5-4ddc-8387-144c1aa73946",
   "metadata": {
    "execution": {
     "iopub.execute_input": "2025-07-24T06:25:25.546101Z",
     "iopub.status.busy": "2025-07-24T06:25:25.545941Z",
     "iopub.status.idle": "2025-07-24T06:25:25.549503Z",
     "shell.execute_reply": "2025-07-24T06:25:25.549024Z",
     "shell.execute_reply.started": "2025-07-24T06:25:25.546085Z"
    }
   },
   "outputs": [
    {
     "name": "stdout",
     "output_type": "stream",
     "text": [
      "[1 2 3 4 5]\n"
     ]
    }
   ],
   "source": [
    "mask = numbers < 6\n",
    "print(numbers[mask])"
   ]
  },
  {
   "cell_type": "markdown",
   "id": "448e7558-13f9-42b6-9f2e-4189855b8a12",
   "metadata": {},
   "source": [
    "## Adding and removing data\n"
   ]
  },
  {
   "cell_type": "code",
   "execution_count": 37,
   "id": "96893ba0-9a81-493c-870c-fec1ee69dff7",
   "metadata": {
    "execution": {
     "iopub.execute_input": "2025-07-24T07:06:35.908031Z",
     "iopub.status.busy": "2025-07-24T07:06:35.907784Z",
     "iopub.status.idle": "2025-07-24T07:06:35.911981Z",
     "shell.execute_reply": "2025-07-24T07:06:35.911297Z",
     "shell.execute_reply.started": "2025-07-24T07:06:35.908013Z"
    }
   },
   "outputs": [
    {
     "name": "stdout",
     "output_type": "stream",
     "text": [
      "[[1 2]\n",
      " [3 4]]\n",
      "\n",
      "[[5 6]]\n"
     ]
    }
   ],
   "source": [
    "yo = np.array([[1, 2], [3, 4]])\n",
    "gurt = np.array([[5, 6]])\n",
    "\n",
    "print(yo)\n",
    "print()\n",
    "print(gurt)"
   ]
  },
  {
   "cell_type": "markdown",
   "id": "f4b25463-95bb-4585-8ffe-affe0ce9a585",
   "metadata": {},
   "source": [
    "### vstack is used to add/stack two arrays by rows"
   ]
  },
  {
   "cell_type": "code",
   "execution_count": 39,
   "id": "2317cbc7-d099-4248-831c-e0ca52d292d6",
   "metadata": {
    "execution": {
     "iopub.execute_input": "2025-07-24T07:07:59.598589Z",
     "iopub.status.busy": "2025-07-24T07:07:59.598351Z",
     "iopub.status.idle": "2025-07-24T07:07:59.602502Z",
     "shell.execute_reply": "2025-07-24T07:07:59.601928Z",
     "shell.execute_reply.started": "2025-07-24T07:07:59.598572Z"
    }
   },
   "outputs": [
    {
     "name": "stdout",
     "output_type": "stream",
     "text": [
      "[[1 2]\n",
      " [3 4]\n",
      " [5 6]]\n"
     ]
    }
   ],
   "source": [
    "yogurt = np.vstack((yo, gurt))\n",
    "print(yogurt)"
   ]
  },
  {
   "cell_type": "markdown",
   "id": "c1f28c09-1bd7-4e2f-b5f9-57ca6e14309f",
   "metadata": {},
   "source": [
    "### hstack is used to add/stack two arrays by columns"
   ]
  },
  {
   "cell_type": "code",
   "execution_count": 43,
   "id": "0ff1cf07-9150-403b-a1c0-34e5c1c864a3",
   "metadata": {
    "execution": {
     "iopub.execute_input": "2025-07-24T07:10:41.949325Z",
     "iopub.status.busy": "2025-07-24T07:10:41.949075Z",
     "iopub.status.idle": "2025-07-24T07:10:41.953259Z",
     "shell.execute_reply": "2025-07-24T07:10:41.952539Z",
     "shell.execute_reply.started": "2025-07-24T07:10:41.949307Z"
    }
   },
   "outputs": [
    {
     "name": "stdout",
     "output_type": "stream",
     "text": [
      "[[1 2 7]\n",
      " [3 4 8]]\n"
     ]
    }
   ],
   "source": [
    "column = np.array([[7], [8]])\n",
    "gurtyo = np.hstack((yo, column))\n",
    "print(gurtyo)"
   ]
  },
  {
   "cell_type": "markdown",
   "id": "d3fb0696-b428-43ba-9c47-3f714b94db50",
   "metadata": {
    "execution": {
     "iopub.execute_input": "2025-07-24T06:34:13.257984Z",
     "iopub.status.busy": "2025-07-24T06:34:13.257742Z",
     "iopub.status.idle": "2025-07-24T06:34:13.261690Z",
     "shell.execute_reply": "2025-07-24T06:34:13.261110Z",
     "shell.execute_reply.started": "2025-07-24T06:34:13.257966Z"
    }
   },
   "source": [
    "### Concatenation can be done, if the shape of arrays are same"
   ]
  },
  {
   "cell_type": "code",
   "execution_count": 21,
   "id": "3254160a-b3dd-46fc-b7c3-40a1b1656569",
   "metadata": {
    "execution": {
     "iopub.execute_input": "2025-07-24T06:38:47.785241Z",
     "iopub.status.busy": "2025-07-24T06:38:47.784985Z",
     "iopub.status.idle": "2025-07-24T06:38:47.788854Z",
     "shell.execute_reply": "2025-07-24T06:38:47.788419Z",
     "shell.execute_reply.started": "2025-07-24T06:38:47.785223Z"
    }
   },
   "outputs": [
    {
     "name": "stdout",
     "output_type": "stream",
     "text": [
      "[11 27 72 43]\n"
     ]
    }
   ],
   "source": [
    "mostu = np.concatenate((yo, gurt))\n",
    "print(mostu)"
   ]
  },
  {
   "cell_type": "markdown",
   "id": "a9994709-2825-463e-a516-927446638ea9",
   "metadata": {},
   "source": [
    "concatenate() is better than hstack, vstack, it works on 3D arrays too, its more flexible and versatile."
   ]
  },
  {
   "cell_type": "markdown",
   "id": "705ff899-5743-4574-a458-e24a3ebdf644",
   "metadata": {},
   "source": [
    "### Array Compatibility"
   ]
  },
  {
   "cell_type": "markdown",
   "id": "b647e3c7-934b-48a4-a3a7-6f562c18c059",
   "metadata": {},
   "source": [
    "Arrays must have same shape to be compatible for various purposes and operations. compatibility can be checked through:"
   ]
  },
  {
   "cell_type": "code",
   "execution_count": 31,
   "id": "615f0f1f-23e4-46ed-ad29-52dbf2ae011d",
   "metadata": {
    "execution": {
     "iopub.execute_input": "2025-07-24T06:48:18.331964Z",
     "iopub.status.busy": "2025-07-24T06:48:18.331717Z",
     "iopub.status.idle": "2025-07-24T06:48:18.336322Z",
     "shell.execute_reply": "2025-07-24T06:48:18.335743Z",
     "shell.execute_reply.started": "2025-07-24T06:48:18.331947Z"
    }
   },
   "outputs": [
    {
     "name": "stdout",
     "output_type": "stream",
     "text": [
      "Compatibility is False for a & b\n",
      "Compatibility is True for a & c\n",
      "Compatibility is False for b & c\n",
      "Compatibility is False for a, b & c\n"
     ]
    }
   ],
   "source": [
    "a = np.array([1, 2, 3])\n",
    "b = np.array([4, 5, 6, 7])\n",
    "c = np.array([7, 8, 9])\n",
    "\n",
    "print(f\"Compatibility is {a.shape == b.shape} for a & b\")\n",
    "print(f\"Compatibility is {a.shape == c.shape} for a & c\")\n",
    "print(f\"Compatibility is {b.shape == c.shape} for b & c\")\n",
    "print(f\"Compatibility is {a.shape == b.shape == c.shape} for a, b & c\")"
   ]
  },
  {
   "cell_type": "code",
   "execution_count": null,
   "id": "7edc169e-7d28-4f1f-925f-c3954c1293a0",
   "metadata": {},
   "outputs": [],
   "source": []
  }
 ],
 "metadata": {
  "kernelspec": {
   "display_name": "Python 3 (ipykernel)",
   "language": "python",
   "name": "python3"
  },
  "language_info": {
   "codemirror_mode": {
    "name": "ipython",
    "version": 3
   },
   "file_extension": ".py",
   "mimetype": "text/x-python",
   "name": "python",
   "nbconvert_exporter": "python",
   "pygments_lexer": "ipython3",
   "version": "3.13.5"
  }
 },
 "nbformat": 4,
 "nbformat_minor": 5
}
