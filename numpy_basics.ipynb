{
 "cells": [
  {
   "cell_type": "code",
   "execution_count": 1,
   "id": "83953a27-4e58-4921-a751-57fdd12a257d",
   "metadata": {
    "execution": {
     "iopub.execute_input": "2025-07-24T05:35:58.418988Z",
     "iopub.status.busy": "2025-07-24T05:35:58.418746Z",
     "iopub.status.idle": "2025-07-24T05:35:58.500957Z",
     "shell.execute_reply": "2025-07-24T05:35:58.500269Z",
     "shell.execute_reply.started": "2025-07-24T05:35:58.418970Z"
    }
   },
   "outputs": [],
   "source": [
    "import numpy as np"
   ]
  },
  {
   "cell_type": "code",
   "execution_count": 2,
   "id": "1728a569-8111-422b-b932-2a5b582b8940",
   "metadata": {
    "execution": {
     "iopub.execute_input": "2025-07-24T05:35:58.502173Z",
     "iopub.status.busy": "2025-07-24T05:35:58.501856Z",
     "iopub.status.idle": "2025-07-24T05:35:58.506544Z",
     "shell.execute_reply": "2025-07-24T05:35:58.505832Z",
     "shell.execute_reply.started": "2025-07-24T05:35:58.502154Z"
    }
   },
   "outputs": [
    {
     "name": "stdout",
     "output_type": "stream",
     "text": [
      "[-12   0  12  24  36  48  60  72  84  96 108]\n"
     ]
    }
   ],
   "source": [
    "a = np.arange(-12, 120, 12)\n",
    "print(a)"
   ]
  },
  {
   "cell_type": "code",
   "execution_count": 3,
   "id": "d7885e13-133c-4e53-b90f-9605cde50a7c",
   "metadata": {
    "execution": {
     "iopub.execute_input": "2025-07-24T05:35:58.507350Z",
     "iopub.status.busy": "2025-07-24T05:35:58.507129Z",
     "iopub.status.idle": "2025-07-24T05:35:58.511132Z",
     "shell.execute_reply": "2025-07-24T05:35:58.510440Z",
     "shell.execute_reply.started": "2025-07-24T05:35:58.507332Z"
    }
   },
   "outputs": [
    {
     "name": "stdout",
     "output_type": "stream",
     "text": [
      "[-12, 0, 12, 24, 36, 48, 60, 72, 84, 96, 108]\n"
     ]
    }
   ],
   "source": [
    "b = []\n",
    "for i in range(-12, 120, 12):\n",
    "    b.append(i)\n",
    "print(b)"
   ]
  },
  {
   "cell_type": "code",
   "execution_count": 4,
   "id": "a3969e6e-0ac8-4948-b43d-8d702d405ff8",
   "metadata": {
    "execution": {
     "iopub.execute_input": "2025-07-24T05:35:58.512513Z",
     "iopub.status.busy": "2025-07-24T05:35:58.512208Z",
     "iopub.status.idle": "2025-07-24T05:35:58.519299Z",
     "shell.execute_reply": "2025-07-24T05:35:58.518697Z",
     "shell.execute_reply.started": "2025-07-24T05:35:58.512490Z"
    }
   },
   "outputs": [
    {
     "data": {
      "text/plain": [
       "array([1, 2, 3])"
      ]
     },
     "execution_count": 4,
     "metadata": {},
     "output_type": "execute_result"
    }
   ],
   "source": [
    "np.array([1, 2, 3])"
   ]
  },
  {
   "cell_type": "code",
   "execution_count": 5,
   "id": "5d9c819c-3312-4250-98fe-f94d1df580a3",
   "metadata": {
    "execution": {
     "iopub.execute_input": "2025-07-24T05:35:58.520011Z",
     "iopub.status.busy": "2025-07-24T05:35:58.519781Z",
     "iopub.status.idle": "2025-07-24T05:35:58.524446Z",
     "shell.execute_reply": "2025-07-24T05:35:58.523641Z",
     "shell.execute_reply.started": "2025-07-24T05:35:58.519989Z"
    }
   },
   "outputs": [
    {
     "data": {
      "text/plain": [
       "array([[19, 28, 37],\n",
       "       [46, 55, 64]])"
      ]
     },
     "execution_count": 5,
     "metadata": {},
     "output_type": "execute_result"
    }
   ],
   "source": [
    "np.array([[19, 28, 37], [46, 55, 64]])"
   ]
  },
  {
   "cell_type": "code",
   "execution_count": 6,
   "id": "1863b0fe-7d58-48d8-8da4-cefaf0a06c2f",
   "metadata": {
    "execution": {
     "iopub.execute_input": "2025-07-24T05:35:58.525339Z",
     "iopub.status.busy": "2025-07-24T05:35:58.525086Z",
     "iopub.status.idle": "2025-07-24T05:35:58.530507Z",
     "shell.execute_reply": "2025-07-24T05:35:58.529689Z",
     "shell.execute_reply.started": "2025-07-24T05:35:58.525321Z"
    }
   },
   "outputs": [
    {
     "name": "stdout",
     "output_type": "stream",
     "text": [
      "[[[14 23]\n",
      "  [42 51]\n",
      "  [69 78]\n",
      "  [87 96]]]\n"
     ]
    },
    {
     "data": {
      "text/plain": [
       "3"
      ]
     },
     "execution_count": 6,
     "metadata": {},
     "output_type": "execute_result"
    }
   ],
   "source": [
    "o = np.array([[[14, 23], [42, 51],\n",
    "          [69, 78], [87, 96]]])\n",
    "print(o)\n",
    "o.ndim"
   ]
  },
  {
   "cell_type": "code",
   "execution_count": 7,
   "id": "0ac4b8e9-0cb7-4dd1-97ca-df3b6dd2956d",
   "metadata": {
    "execution": {
     "iopub.execute_input": "2025-07-24T05:35:58.531565Z",
     "iopub.status.busy": "2025-07-24T05:35:58.531234Z",
     "iopub.status.idle": "2025-07-24T05:35:58.535601Z",
     "shell.execute_reply": "2025-07-24T05:35:58.534930Z",
     "shell.execute_reply.started": "2025-07-24T05:35:58.531541Z"
    }
   },
   "outputs": [
    {
     "name": "stdout",
     "output_type": "stream",
     "text": [
      "[[7 7 7 7 7]\n",
      " [7 7 7 7 7]\n",
      " [7 7 7 7 7]\n",
      " [7 7 7 7 7]]\n"
     ]
    }
   ],
   "source": [
    "sevens = np.full((4, 5), 7)\n",
    "print(sevens)"
   ]
  },
  {
   "cell_type": "markdown",
   "id": "e2b03925-136e-40d3-9ae1-2b679ee4fa0a",
   "metadata": {},
   "source": [
    "### Taking transpose of sevens, with .T"
   ]
  },
  {
   "cell_type": "code",
   "execution_count": 8,
   "id": "fae2bb89-8955-45c3-8501-8490d639e935",
   "metadata": {
    "execution": {
     "iopub.execute_input": "2025-07-24T05:35:58.536422Z",
     "iopub.status.busy": "2025-07-24T05:35:58.536185Z",
     "iopub.status.idle": "2025-07-24T05:35:58.539853Z",
     "shell.execute_reply": "2025-07-24T05:35:58.539312Z",
     "shell.execute_reply.started": "2025-07-24T05:35:58.536404Z"
    }
   },
   "outputs": [
    {
     "name": "stdout",
     "output_type": "stream",
     "text": [
      "[[7 7 7 7]\n",
      " [7 7 7 7]\n",
      " [7 7 7 7]\n",
      " [7 7 7 7]\n",
      " [7 7 7 7]]\n"
     ]
    }
   ],
   "source": [
    "sneves = sevens.T\n",
    "print(sneves)"
   ]
  },
  {
   "cell_type": "code",
   "execution_count": null,
   "id": "44562beb-0db0-48cd-8ebc-f70de950f0e5",
   "metadata": {},
   "outputs": [],
   "source": []
  }
 ],
 "metadata": {
  "kernelspec": {
   "display_name": "Python 3 (ipykernel)",
   "language": "python",
   "name": "python3"
  },
  "language_info": {
   "codemirror_mode": {
    "name": "ipython",
    "version": 3
   },
   "file_extension": ".py",
   "mimetype": "text/x-python",
   "name": "python",
   "nbconvert_exporter": "python",
   "pygments_lexer": "ipython3",
   "version": "3.13.5"
  }
 },
 "nbformat": 4,
 "nbformat_minor": 5
}
